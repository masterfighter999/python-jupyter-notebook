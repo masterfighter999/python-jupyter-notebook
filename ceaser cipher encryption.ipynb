{
 "cells": [
  {
   "cell_type": "code",
   "execution_count": 1,
   "id": "415ac166",
   "metadata": {},
   "outputs": [],
   "source": [
    "def encrypt(plaintext,n):\n",
    "    result = \"\"\n",
    "    for i in range(len(plaintext)):\n",
    "        ch = plaintext[i]\n",
    "        if ch == \" \":\n",
    "            result += \" \"\n",
    "        elif ch.isupper():\n",
    "            result += chr((ord(ch)-65+n)%26+65)\n",
    "        else:\n",
    "            result += chr((ord(ch)-97+n)%26+97)\n",
    "    return result"
   ]
  },
  {
   "cell_type": "code",
   "execution_count": 3,
   "id": "9beca61f",
   "metadata": {},
   "outputs": [
    {
     "name": "stdout",
     "output_type": "stream",
     "text": [
      "Vzdbdp Fkdwwhumhh\n"
     ]
    }
   ],
   "source": [
    "plaintext = \"Swayam Chatterjee\"\n",
    "n=3\n",
    "print(encrypt(plaintext,n))"
   ]
  },
  {
   "cell_type": "code",
   "execution_count": null,
   "id": "1f0db273",
   "metadata": {},
   "outputs": [],
   "source": []
  }
 ],
 "metadata": {
  "kernelspec": {
   "display_name": "Python 3 (ipykernel)",
   "language": "python",
   "name": "python3"
  },
  "language_info": {
   "codemirror_mode": {
    "name": "ipython",
    "version": 3
   },
   "file_extension": ".py",
   "mimetype": "text/x-python",
   "name": "python",
   "nbconvert_exporter": "python",
   "pygments_lexer": "ipython3",
   "version": "3.11.4"
  }
 },
 "nbformat": 4,
 "nbformat_minor": 5
}
