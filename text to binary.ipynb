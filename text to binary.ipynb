{
 "cells": [
  {
   "cell_type": "code",
   "execution_count": 3,
   "id": "740808c5",
   "metadata": {},
   "outputs": [
    {
     "name": "stdout",
     "output_type": "stream",
     "text": [
      "01001000011001010110110001101100011011110010110000100000011101110110111101110010011011000110010000100001\n"
     ]
    }
   ],
   "source": [
    "# Define the message to convert\n",
    "message = \"Hello, world!\"\n",
    "\n",
    "# Initialize an empty string for the binary representation\n",
    "binary = \"\"\n",
    "\n",
    "# Loop through each character in the message\n",
    "for char in message:\n",
    "    # Convert the character to its ASCII code\n",
    "    ascii_code = ord(char)\n",
    "    # Convert the ASCII code to its binary representation with 8 bits\n",
    "    binary_code = format(ascii_code, \"08b\")\n",
    "    # Append the binary code to the binary string\n",
    "    binary += binary_code\n",
    "\n",
    "# Print the binary representation\n",
    "print(binary)\n"
   ]
  },
  {
   "cell_type": "code",
   "execution_count": 5,
   "id": "a0832454",
   "metadata": {},
   "outputs": [
    {
     "name": "stdout",
     "output_type": "stream",
     "text": [
      "Enter the original text message: hello\n",
      "Enter the secret message to hide: hi\n",
      "Original Text: hello\n",
      "Binary Representation: 0110100001100101011011000110110001101111\n",
      "Secret Message to Hide: hi\n",
      "Modified Binary (with hidden message): 0110100001101001011011000110110001101111\n",
      "Revealed Message: 0110100001101001\n"
     ]
    }
   ],
   "source": [
    "def text_to_binary(text):\n",
    "    binary_message = ''.join(format(ord(char), '08b') for char in text)\n",
    "    return binary_message\n",
    "\n",
    "def hide_message(original_binary, secret_message):\n",
    "    if len(original_binary) < len(secret_message):\n",
    "        raise ValueError(\"Secret message is too long to hide in the given text.\")\n",
    "\n",
    "    # Replace the LSB of each character in the original binary with the secret message\n",
    "    modified_binary = list(original_binary)\n",
    "    for i in range(len(secret_message)):\n",
    "        modified_binary[i] = secret_message[i]\n",
    "\n",
    "    return ''.join(modified_binary)\n",
    "\n",
    "def reveal_message(binary_message, message_length):\n",
    "    # Extract the hidden message from the LSB of the binary representation\n",
    "    secret_message = binary_message[:message_length]\n",
    "    return secret_message\n",
    "\n",
    "# Get user input for the original text\n",
    "original_text = input(\"Enter the original text message: \")\n",
    "\n",
    "# Get user input for the secret message to hide\n",
    "secret_message = input(\"Enter the secret message to hide: \")\n",
    "\n",
    "# Convert original text to binary\n",
    "original_binary = text_to_binary(original_text)\n",
    "\n",
    "# Convert the secret message to binary\n",
    "secret_binary = text_to_binary(secret_message)\n",
    "\n",
    "# Hide the secret message in the LSB of the original binary\n",
    "modified_binary = hide_message(original_binary, secret_binary)\n",
    "\n",
    "# Reveal the hidden message\n",
    "revealed_message = reveal_message(modified_binary, len(secret_binary))\n",
    "\n",
    "# Display results\n",
    "print(f\"Original Text: {original_text}\")\n",
    "print(f\"Binary Representation: {original_binary}\")\n",
    "print(f\"Secret Message to Hide: {secret_message}\")\n",
    "print(f\"Modified Binary (with hidden message): {modified_binary}\")\n",
    "print(f\"Revealed Message: {revealed_message}\")\n"
   ]
  },
  {
   "cell_type": "code",
   "execution_count": null,
   "id": "b43b4baf",
   "metadata": {},
   "outputs": [],
   "source": []
  }
 ],
 "metadata": {
  "kernelspec": {
   "display_name": "Python 3 (ipykernel)",
   "language": "python",
   "name": "python3"
  },
  "language_info": {
   "codemirror_mode": {
    "name": "ipython",
    "version": 3
   },
   "file_extension": ".py",
   "mimetype": "text/x-python",
   "name": "python",
   "nbconvert_exporter": "python",
   "pygments_lexer": "ipython3",
   "version": "3.11.4"
  }
 },
 "nbformat": 4,
 "nbformat_minor": 5
}
