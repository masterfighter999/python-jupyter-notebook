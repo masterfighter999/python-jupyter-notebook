{
 "cells": [
  {
   "cell_type": "code",
   "execution_count": 1,
   "id": "5b8cfd37",
   "metadata": {},
   "outputs": [],
   "source": [
    "import time"
   ]
  },
  {
   "cell_type": "code",
   "execution_count": 8,
   "id": "3e5060fb",
   "metadata": {},
   "outputs": [],
   "source": [
    "def encrypt(f1,n):\n",
    "    result = \"\"\n",
    "    for i in range(len(f1)):\n",
    "        ch = f1[i]\n",
    "        if ch == \" \":\n",
    "            result += \" \"\n",
    "        elif ch.isupper():\n",
    "            result += chr((ord(ch)-65+n)%26+65)\n",
    "        else:\n",
    "            result += chr((ord(ch)-97+n)%26+97)\n",
    "    return result"
   ]
  },
  {
   "cell_type": "code",
   "execution_count": 9,
   "id": "7e6038c1",
   "metadata": {},
   "outputs": [
    {
     "name": "stdout",
     "output_type": "stream",
     "text": [
      "The time taken is :  0.0040493011474609375 seconds\n"
     ]
    }
   ],
   "source": [
    "n = 3\n",
    "file1 = open(\"big text file.txt\", \"r\")\n",
    "f1 = file1.read()\n",
    "#encrypt(f1,n)\n",
    "file_encrypt= open(\"ciphertext1.txt\", \"w\")\n",
    "start_time= time.time()\n",
    "file_encrypt.write(encrypt(f1,n))\n",
    "end_time = time.time()\n",
    "print(\"The time taken is : \",end_time - start_time, \"seconds\")"
   ]
  },
  {
   "cell_type": "code",
   "execution_count": null,
   "id": "729168f5",
   "metadata": {},
   "outputs": [],
   "source": []
  }
 ],
 "metadata": {
  "kernelspec": {
   "display_name": "Python 3 (ipykernel)",
   "language": "python",
   "name": "python3"
  },
  "language_info": {
   "codemirror_mode": {
    "name": "ipython",
    "version": 3
   },
   "file_extension": ".py",
   "mimetype": "text/x-python",
   "name": "python",
   "nbconvert_exporter": "python",
   "pygments_lexer": "ipython3",
   "version": "3.11.4"
  }
 },
 "nbformat": 4,
 "nbformat_minor": 5
}
