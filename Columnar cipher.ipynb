{
 "cells": [
  {
   "cell_type": "code",
   "execution_count": 1,
   "id": "c9651ade",
   "metadata": {},
   "outputs": [],
   "source": [
    "import numpy as np"
   ]
  },
  {
   "cell_type": "code",
   "execution_count": 2,
   "id": "e5a4ed8a",
   "metadata": {},
   "outputs": [],
   "source": [
    "def encrypt(text, key):\n",
    "    text = text.replace(\" \", \"\").upper()  # Remove spaces and convert to uppercase\n",
    "    key_order = np.argsort(list(key))  # Determine the order of columns based on the key\n",
    "    num_columns = len(key)  # Get the number of columns based on the length of the key\n",
    "    num_rows = -(-len(text) // num_columns)  # Calculate the number of rows needed\n",
    "    \n",
    "    # Pad the text with spaces if it doesn't fill the grid completely\n",
    "    text += ' ' * (num_rows * num_columns - len(text))\n",
    "\n",
    "    matrix = np.array(list(text))  # Convert the text to a NumPy array\n",
    "    matrix = matrix.reshape(num_rows, num_columns)  # Reshape the array into a matrix\n",
    "\n",
    "    sorted_matrix = matrix[:, key_order]  # Rearrange the columns according to the key order\n",
    "    ciphertext = ''.join(sorted_matrix.flatten())  # Flatten the matrix into ciphertext\n",
    "\n",
    "    return ciphertext\n"
   ]
  },
  {
   "cell_type": "code",
   "execution_count": 4,
   "id": "4beef315",
   "metadata": {},
   "outputs": [
    {
     "name": "stdout",
     "output_type": "stream",
     "text": [
      "Enter the String: hello\n",
      "Enter the key value: key\n",
      "Ciphertext: EHLOL \n"
     ]
    }
   ],
   "source": [
    "plaintext = input(\"Enter the String: \")\n",
    "key = input(\"Enter the key value: \")\n",
    "ciphertext = encrypt(plaintext, key)\n",
    "print(\"Ciphertext:\", ciphertext)"
   ]
  },
  {
   "cell_type": "code",
   "execution_count": null,
   "id": "4d87ca76",
   "metadata": {},
   "outputs": [],
   "source": []
  }
 ],
 "metadata": {
  "kernelspec": {
   "display_name": "Python 3 (ipykernel)",
   "language": "python",
   "name": "python3"
  },
  "language_info": {
   "codemirror_mode": {
    "name": "ipython",
    "version": 3
   },
   "file_extension": ".py",
   "mimetype": "text/x-python",
   "name": "python",
   "nbconvert_exporter": "python",
   "pygments_lexer": "ipython3",
   "version": "3.11.4"
  }
 },
 "nbformat": 4,
 "nbformat_minor": 5
}
