{
 "cells": [
  {
   "cell_type": "code",
   "execution_count": 7,
   "id": "49d02482",
   "metadata": {},
   "outputs": [],
   "source": [
    "plaintext = \"Swayam Chatterjee\"\n",
    "n=3"
   ]
  },
  {
   "cell_type": "code",
   "execution_count": 8,
   "id": "4e780a28",
   "metadata": {},
   "outputs": [],
   "source": [
    "result = \" \"\n",
    "for i in range(len(plaintext)):\n",
    "    ch = plaintext[i]\n",
    "    if ch == \" \":\n",
    "        result += \" \"\n",
    "    elif ch.isupper():\n",
    "        result += chr((ord(ch)-65+n)%26+65)\n",
    "    else:\n",
    "        result += chr((ord(ch)-97+n)%26+97)"
   ]
  },
  {
   "cell_type": "code",
   "execution_count": 9,
   "id": "54168116",
   "metadata": {},
   "outputs": [
    {
     "data": {
      "text/plain": [
       "' Vzdbdp Fkdwwhumhh'"
      ]
     },
     "execution_count": 9,
     "metadata": {},
     "output_type": "execute_result"
    }
   ],
   "source": [
    "result"
   ]
  },
  {
   "cell_type": "code",
   "execution_count": null,
   "id": "abc9cd99",
   "metadata": {},
   "outputs": [],
   "source": []
  }
 ],
 "metadata": {
  "kernelspec": {
   "display_name": "Python 3 (ipykernel)",
   "language": "python",
   "name": "python3"
  },
  "language_info": {
   "codemirror_mode": {
    "name": "ipython",
    "version": 3
   },
   "file_extension": ".py",
   "mimetype": "text/x-python",
   "name": "python",
   "nbconvert_exporter": "python",
   "pygments_lexer": "ipython3",
   "version": "3.11.4"
  }
 },
 "nbformat": 4,
 "nbformat_minor": 5
}
