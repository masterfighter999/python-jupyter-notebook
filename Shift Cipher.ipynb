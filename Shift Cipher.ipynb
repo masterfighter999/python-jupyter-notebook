{
 "cells": [
  {
   "cell_type": "code",
   "execution_count": 11,
   "id": "6943809c",
   "metadata": {},
   "outputs": [],
   "source": [
    "def encrypt(plaintext, n):\n",
    "    result = \"\"\n",
    "    for i in range(len(plaintext)):\n",
    "        ch = plaintext[i]\n",
    "        if ch == \" \":\n",
    "            result += \" \"\n",
    "        elif ch.isupper():\n",
    "            result += chr((ord(ch) - 65 + n) % 26 + 65)\n",
    "        else:\n",
    "            result += chr((ord(ch) - 97 + n) % 26 + 97)\n",
    "    return result"
   ]
  },
  {
   "cell_type": "code",
   "execution_count": 12,
   "id": "6a4c7c1d",
   "metadata": {},
   "outputs": [],
   "source": [
    "def decrypt(ciphertext, n):\n",
    "    result = \"\"\n",
    "    for i in range(len(ciphertext)):\n",
    "        ch = ciphertext[i]\n",
    "        if ch == \" \":\n",
    "            result += \" \"\n",
    "        elif ch.isupper():\n",
    "            result += chr((ord(ch) - 65 - n) % 26 + 65)\n",
    "        else:\n",
    "            result += chr((ord(ch) - 97 - n) % 26 + 97)\n",
    "    return result"
   ]
  },
  {
   "cell_type": "code",
   "execution_count": 14,
   "id": "56c39ade",
   "metadata": {},
   "outputs": [
    {
     "name": "stdout",
     "output_type": "stream",
     "text": [
      "kl\n",
      "hi\n"
     ]
    }
   ],
   "source": [
    "plaintext= 'hi'\n",
    "n=3\n",
    "print(encrypt(plaintext,n))\n",
    "\n",
    "ciphertext= encrypt(plaintext,n)\n",
    "print(decrypt(ciphertext,n))"
   ]
  },
  {
   "cell_type": "code",
   "execution_count": null,
   "id": "be052e8b",
   "metadata": {},
   "outputs": [],
   "source": []
  }
 ],
 "metadata": {
  "kernelspec": {
   "display_name": "Python 3 (ipykernel)",
   "language": "python",
   "name": "python3"
  },
  "language_info": {
   "codemirror_mode": {
    "name": "ipython",
    "version": 3
   },
   "file_extension": ".py",
   "mimetype": "text/x-python",
   "name": "python",
   "nbconvert_exporter": "python",
   "pygments_lexer": "ipython3",
   "version": "3.11.4"
  }
 },
 "nbformat": 4,
 "nbformat_minor": 5
}
