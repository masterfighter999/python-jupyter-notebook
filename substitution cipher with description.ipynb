{
 "cells": [
  {
   "cell_type": "code",
   "execution_count": 1,
   "id": "9ada03aa",
   "metadata": {},
   "outputs": [
    {
     "name": "stdout",
     "output_type": "stream",
     "text": [
      "The key is: JISHYQCTWEXFRZLBDPKVMANGUO\n",
      "The ciphertext is: TYFFL, NLPFH!\n",
      "The plaintext is: HELLO, WORLD!\n"
     ]
    }
   ],
   "source": [
    "# Import the random module\n",
    "import random\n",
    "\n",
    "# Define the alphabet\n",
    "alphabet = \"ABCDEFGHIJKLMNOPQRSTUVWXYZ\"\n",
    "\n",
    "# Generate a random key by shuffling the alphabet\n",
    "key = list(alphabet)\n",
    "random.shuffle(key)\n",
    "key = \"\".join(key)\n",
    "\n",
    "# Print the key\n",
    "print(\"The key is:\", key)\n",
    "\n",
    "# Define a function to encrypt a plaintext using the key\n",
    "def encrypt(plaintext):\n",
    "    # Convert the plaintext to uppercase\n",
    "    plaintext = plaintext.upper()\n",
    "    # Initialize an empty string for the ciphertext\n",
    "    ciphertext = \"\"\n",
    "    # Loop through each letter of the plaintext\n",
    "    for letter in plaintext:\n",
    "        # If the letter is in the alphabet, replace it with the corresponding letter in the key\n",
    "        if letter in alphabet:\n",
    "            index = alphabet.index(letter)\n",
    "            ciphertext += key[index]\n",
    "        # If the letter is not in the alphabet, keep it as it is\n",
    "        else:\n",
    "            ciphertext += letter\n",
    "    # Return the ciphertext\n",
    "    return ciphertext\n",
    "\n",
    "# Define a function to decrypt a ciphertext using the key\n",
    "def decrypt(ciphertext):\n",
    "    # Convert the ciphertext to uppercase\n",
    "    ciphertext = ciphertext.upper()\n",
    "    # Initialize an empty string for the plaintext\n",
    "    plaintext = \"\"\n",
    "    # Loop through each letter of the ciphertext\n",
    "    for letter in ciphertext:\n",
    "        # If the letter is in the key, replace it with the corresponding letter in the alphabet\n",
    "        if letter in key:\n",
    "            index = key.index(letter)\n",
    "            plaintext += alphabet[index]\n",
    "        # If the letter is not in the key, keep it as it is\n",
    "        else:\n",
    "            plaintext += letter\n",
    "    # Return the plaintext\n",
    "    return plaintext\n",
    "\n",
    "# Test the encryption and decryption functions\n",
    "plaintext = \"Hello, world!\"\n",
    "ciphertext = encrypt(plaintext)\n",
    "print(\"The ciphertext is:\", ciphertext)\n",
    "plaintext = decrypt(ciphertext)\n",
    "print(\"The plaintext is:\", plaintext)\n"
   ]
  },
  {
   "cell_type": "code",
   "execution_count": null,
   "id": "5014bf7f",
   "metadata": {},
   "outputs": [],
   "source": []
  }
 ],
 "metadata": {
  "kernelspec": {
   "display_name": "Python 3 (ipykernel)",
   "language": "python",
   "name": "python3"
  },
  "language_info": {
   "codemirror_mode": {
    "name": "ipython",
    "version": 3
   },
   "file_extension": ".py",
   "mimetype": "text/x-python",
   "name": "python",
   "nbconvert_exporter": "python",
   "pygments_lexer": "ipython3",
   "version": "3.11.4"
  }
 },
 "nbformat": 4,
 "nbformat_minor": 5
}
