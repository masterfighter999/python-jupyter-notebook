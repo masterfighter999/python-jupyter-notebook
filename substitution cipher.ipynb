{
 "cells": [
  {
   "cell_type": "code",
   "execution_count": 1,
   "id": "be8ad4c0",
   "metadata": {},
   "outputs": [],
   "source": [
    "#import random"
   ]
  },
  {
   "cell_type": "code",
   "execution_count": 7,
   "id": "7f734451",
   "metadata": {},
   "outputs": [],
   "source": [
    "alphabet = \"ABCDEFGHIJKLMNOPQRSTUVWXYZ\"\n",
    "\n",
    "def generate_random_key():\n",
    "    new_alphabet = \"EFGHIJKLMNOPQRSTUVWXYZABCD\"\n",
    "    key = list(new_alphabet)\n",
    "#     random.shuffle(key)\n",
    "    return ''.join(key)\n",
    "\n",
    "def validate_key(key):\n",
    "    return len(set(key)) == len(alphabet)"
   ]
  },
  {
   "cell_type": "code",
   "execution_count": 8,
   "id": "86e8ba3a",
   "metadata": {},
   "outputs": [],
   "source": [
    "def encrypt(plaintext, key):\n",
    "    plaintext = plaintext.upper()\n",
    "    ciphertext = \"\"\n",
    "    for letter in plaintext:\n",
    "        if letter in alphabet:\n",
    "            index = alphabet.index(letter)\n",
    "            ciphertext += key[index]\n",
    "        else:\n",
    "            ciphertext += letter\n",
    "    return ciphertext"
   ]
  },
  {
   "cell_type": "code",
   "execution_count": 9,
   "id": "d87da70b",
   "metadata": {},
   "outputs": [],
   "source": [
    "# Generate a random key\n",
    "key = generate_random_key()\n",
    "\n",
    "# Validate the key\n",
    "if not validate_key(key):\n",
    "    print(\"Error: The key is not valid.\")\n",
    "    exit()\n",
    "\n",
    "# print(\"The key is:\", key)"
   ]
  },
  {
   "cell_type": "code",
   "execution_count": 10,
   "id": "1a53eb96",
   "metadata": {},
   "outputs": [
    {
     "name": "stdout",
     "output_type": "stream",
     "text": [
      "Entire the message : hi\n",
      "The ciphertext is: LM\n"
     ]
    }
   ],
   "source": [
    "plaintext =input(\"Entire the message : \")\n",
    "ciphertext = encrypt(plaintext, key)\n",
    "print(\"The ciphertext is:\", ciphertext)"
   ]
  },
  {
   "cell_type": "code",
   "execution_count": 11,
   "id": "87553743",
   "metadata": {},
   "outputs": [],
   "source": [
    "def decrypt(ciphertext, key):\n",
    "    ciphertext = ciphertext.upper()\n",
    "    plaintext = \"\"\n",
    "    for letter in ciphertext:\n",
    "        if letter in key:\n",
    "            index = key.index(letter)\n",
    "            plaintext += alphabet[index]\n",
    "        else:\n",
    "            plaintext += letter\n",
    "    return plaintext"
   ]
  },
  {
   "cell_type": "code",
   "execution_count": 12,
   "id": "13e28854",
   "metadata": {},
   "outputs": [
    {
     "name": "stdout",
     "output_type": "stream",
     "text": [
      "The decrypted text is: HI\n"
     ]
    }
   ],
   "source": [
    "decrypted_text = decrypt(ciphertext, key)\n",
    "print(\"The decrypted text is:\", decrypted_text)"
   ]
  },
  {
   "cell_type": "code",
   "execution_count": null,
   "id": "66cb9696",
   "metadata": {},
   "outputs": [],
   "source": []
  },
  {
   "cell_type": "code",
   "execution_count": null,
   "id": "905a367b",
   "metadata": {},
   "outputs": [],
   "source": []
  },
  {
   "cell_type": "code",
   "execution_count": null,
   "id": "3317524f",
   "metadata": {},
   "outputs": [],
   "source": []
  }
 ],
 "metadata": {
  "kernelspec": {
   "display_name": "Python 3 (ipykernel)",
   "language": "python",
   "name": "python3"
  },
  "language_info": {
   "codemirror_mode": {
    "name": "ipython",
    "version": 3
   },
   "file_extension": ".py",
   "mimetype": "text/x-python",
   "name": "python",
   "nbconvert_exporter": "python",
   "pygments_lexer": "ipython3",
   "version": "3.11.4"
  }
 },
 "nbformat": 4,
 "nbformat_minor": 5
}
