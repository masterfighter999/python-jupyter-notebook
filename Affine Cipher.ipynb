{
 "cells": [
  {
   "cell_type": "code",
   "execution_count": 8,
   "id": "30a49d0f",
   "metadata": {},
   "outputs": [
    {
     "name": "stdout",
     "output_type": "stream",
     "text": [
      "enter the string: swayam\n",
      "27\n",
      "3\n"
     ]
    }
   ],
   "source": [
    "plaintext = input(\"enter the string: \")\n",
    "\n",
    "a = int(input())\n",
    "b = int(input())\n",
    "\n"
   ]
  },
  {
   "cell_type": "code",
   "execution_count": 9,
   "id": "654874db",
   "metadata": {},
   "outputs": [
    {
     "name": "stdout",
     "output_type": "stream",
     "text": [
      " vzdbdp\n"
     ]
    }
   ],
   "source": [
    "def encrypt(plaintext,a,b):\n",
    "    result = \" \"\n",
    "    for i in range(len(plaintext)):\n",
    "        ch = plaintext[i]\n",
    "        if ch == \" \":\n",
    "            result += \" \"\n",
    "        elif ch.isupper():\n",
    "            result += chr(((ord(ch)-65*a)+b)%26+65)\n",
    "        else:\n",
    "            result += chr(((ord(ch)-97*a)+b)%26+97)\n",
    "    return result\n",
    "\n",
    "ciphertext= encrypt(plaintext,a,b)\n",
    "print(ciphertext)"
   ]
  },
  {
   "cell_type": "code",
   "execution_count": 10,
   "id": "573f6d12",
   "metadata": {},
   "outputs": [
    {
     "name": "stdout",
     "output_type": "stream",
     "text": [
      "  swayam\n"
     ]
    }
   ],
   "source": [
    "def gcd(a):\n",
    "    res = 1\n",
    "    for i in range(1, 27):\n",
    "        if a % i == 0 and 26 % i == 0:\n",
    "            res = i\n",
    "    return res\n",
    "\n",
    "def decrypt(ciphertext, a, b):\n",
    "    if gcd(a) != 1:\n",
    "        print(\"The gcd of a and 26 must be equal to 1.\")\n",
    "        return\n",
    "    \n",
    "    result = \" \"\n",
    "    a_inv = pow(a, -1, 26)  # Modular multiplicative inverse of 'a' modulo 26\n",
    "    \n",
    "    \n",
    "    for i in range(len(ciphertext)):\n",
    "        ch = ciphertext[i]\n",
    "        if ch == \" \":\n",
    "            result += \" \"\n",
    "        elif ch.isupper():\n",
    "            result += chr(((ord(ch) - 65 - b) * a_inv) % 26 + 65)\n",
    "        else:\n",
    "            result += chr(((ord(ch) - 97 - b) * a_inv) % 26 + 97)\n",
    "    return result\n",
    "\n",
    "decrypted_text = decrypt(ciphertext, a, b)\n",
    "print(decrypted_text)\n"
   ]
  },
  {
   "cell_type": "code",
   "execution_count": null,
   "id": "33d83e1e",
   "metadata": {},
   "outputs": [],
   "source": []
  }
 ],
 "metadata": {
  "kernelspec": {
   "display_name": "Python 3 (ipykernel)",
   "language": "python",
   "name": "python3"
  },
  "language_info": {
   "codemirror_mode": {
    "name": "ipython",
    "version": 3
   },
   "file_extension": ".py",
   "mimetype": "text/x-python",
   "name": "python",
   "nbconvert_exporter": "python",
   "pygments_lexer": "ipython3",
   "version": "3.11.4"
  }
 },
 "nbformat": 4,
 "nbformat_minor": 5
}
