{
 "cells": [
  {
   "cell_type": "code",
   "execution_count": 3,
   "id": "2eea33ea",
   "metadata": {},
   "outputs": [],
   "source": [
    "def decrypt(ciphertext, n):\n",
    "    result = \"\"\n",
    "    for i in range(len(ciphertext)):\n",
    "        ch = ciphertext[i]\n",
    "        if ch == \" \":\n",
    "            result += \" \"\n",
    "        elif ch.isupper():\n",
    "            result += chr((ord(ch) - 65 - n) % 26 + 65)\n",
    "        else:\n",
    "            result += chr((ord(ch) - 97 - n) % 26 + 97)\n",
    "    return result"
   ]
  },
  {
   "cell_type": "code",
   "execution_count": 4,
   "id": "8777c10c",
   "metadata": {},
   "outputs": [
    {
     "name": "stdout",
     "output_type": "stream",
     "text": [
      "Vzdbdp Fkdwwhumhh\n",
      "Uycaco Ejcvvgtlgg\n",
      "Txbzbn Dibuufskff\n",
      "Swayam Chatterjee\n",
      "Rvzxzl Bgzssdqidd\n",
      "Quywyk Afyrrcphcc\n",
      "Ptxvxj Zexqqbogbb\n",
      "Oswuwi Ydwppanfaa\n",
      "Nrvtvh Xcvoozmezz\n",
      "Mqusug Wbunnyldyy\n",
      "Lptrtf Vatmmxkcxx\n",
      "Kosqse Uzsllwjbww\n",
      "Jnrprd Tyrkkviavv\n",
      "Imqoqc Sxqjjuhzuu\n",
      "Hlpnpb Rwpiitgytt\n",
      "Gkomoa Qvohhsfxss\n",
      "Fjnlnz Punggrewrr\n",
      "Eimkmy Otmffqdvqq\n",
      "Dhljlx Nsleepcupp\n",
      "Cgkikw Mrkddobtoo\n",
      "Bfjhjv Lqjccnasnn\n",
      "Aeigiu Kpibbmzrmm\n",
      "Zdhfht Johaalyqll\n",
      "Ycgegs Ingzzkxpkk\n",
      "Xbfdfr Hmfyyjwojj\n"
     ]
    }
   ],
   "source": [
    "ciphertext = \"Vzdbdp Fkdwwhumhh\"\n",
    "\n",
    "for i in range(25):\n",
    "    print(decrypt(ciphertext, i))"
   ]
  },
  {
   "cell_type": "code",
   "execution_count": null,
   "id": "7577de0e",
   "metadata": {},
   "outputs": [],
   "source": []
  }
 ],
 "metadata": {
  "kernelspec": {
   "display_name": "Python 3 (ipykernel)",
   "language": "python",
   "name": "python3"
  },
  "language_info": {
   "codemirror_mode": {
    "name": "ipython",
    "version": 3
   },
   "file_extension": ".py",
   "mimetype": "text/x-python",
   "name": "python",
   "nbconvert_exporter": "python",
   "pygments_lexer": "ipython3",
   "version": "3.11.4"
  }
 },
 "nbformat": 4,
 "nbformat_minor": 5
}
