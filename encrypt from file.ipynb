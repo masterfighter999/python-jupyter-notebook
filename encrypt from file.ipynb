{
 "cells": [
  {
   "cell_type": "code",
   "execution_count": 1,
   "id": "7c8572cf",
   "metadata": {},
   "outputs": [],
   "source": [
    "def encrypt(f1,n):\n",
    "    result = \" \"\n",
    "    for i in range(len(f1)):\n",
    "        ch = f1[i]\n",
    "        if ch == \" \":\n",
    "            result += \" \"\n",
    "        elif ch.isupper():\n",
    "            result += chr((ord(ch)-65+n)%26+65)\n",
    "        else:\n",
    "            result += chr((ord(ch)-97+n)%26+97)\n",
    "    return result"
   ]
  },
  {
   "cell_type": "code",
   "execution_count": 2,
   "id": "d258f8ba",
   "metadata": {},
   "outputs": [],
   "source": [
    "n = 3\n",
    "file1 = open(\"Input from a text file.txt\", \"r\")\n",
    "f1 = file1.read()\n",
    "# encrypt(f1,n)\n",
    "file_encrypt= open(\"ciphertext.txt\", \"w\")\n",
    "file_encrypt.write(encrypt(f1,n))\n",
    "file_encrypt.close()"
   ]
  },
  {
   "cell_type": "code",
   "execution_count": null,
   "id": "a89796a3",
   "metadata": {},
   "outputs": [],
   "source": []
  }
 ],
 "metadata": {
  "kernelspec": {
   "display_name": "Python 3 (ipykernel)",
   "language": "python",
   "name": "python3"
  },
  "language_info": {
   "codemirror_mode": {
    "name": "ipython",
    "version": 3
   },
   "file_extension": ".py",
   "mimetype": "text/x-python",
   "name": "python",
   "nbconvert_exporter": "python",
   "pygments_lexer": "ipython3",
   "version": "3.11.4"
  }
 },
 "nbformat": 4,
 "nbformat_minor": 5
}
